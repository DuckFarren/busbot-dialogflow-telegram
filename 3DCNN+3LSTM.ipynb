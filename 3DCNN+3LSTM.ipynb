{
  "nbformat": 4,
  "nbformat_minor": 0,
  "metadata": {
    "kernelspec": {
      "name": "python3",
      "display_name": "Python 3"
    },
    "language_info": {
      "codemirror_mode": {
        "name": "ipython",
        "version": 3
      },
      "file_extension": ".py",
      "mimetype": "text/x-python",
      "name": "python",
      "nbconvert_exporter": "python",
      "pygments_lexer": "ipython3",
      "version": "3.6.6"
    },
    "colab": {
      "name": "3DCNN+3LSTM_jester_64_300_6.ipynb",
      "provenance": [],
      "machine_shape": "hm",
      "include_colab_link": true
    },
    "accelerator": "GPU"
  },
  "cells": [
    {
      "cell_type": "markdown",
      "metadata": {
        "id": "view-in-github",
        "colab_type": "text"
      },
      "source": [
        "<a href=\"https://colab.research.google.com/github/DuckFarren/busbot-dialogflow-telegram/blob/master/3DCNN%2B3LSTM.ipynb\" target=\"_parent\"><img src=\"https://colab.research.google.com/assets/colab-badge.svg\" alt=\"Open In Colab\"/></a>"
      ]
    },
    {
      "cell_type": "code",
      "metadata": {
        "id": "eiq7UD1mZGjy",
        "colab_type": "code",
        "colab": {}
      },
      "source": [
        "from pydrive.auth import GoogleAuth\n",
        "from pydrive.drive import GoogleDrive\n",
        "from google.colab import auth\n",
        "from oauth2client.client import GoogleCredentials"
      ],
      "execution_count": 0,
      "outputs": []
    },
    {
      "cell_type": "code",
      "metadata": {
        "id": "8Qe-MPKhZV2x",
        "colab_type": "code",
        "outputId": "8871ffef-3630-4c89-abbd-64a5ad678058",
        "colab": {
          "base_uri": "https://localhost:8080/",
          "height": 81
        }
      },
      "source": [
        "import tensorflow as tf\n",
        "tf.test.gpu_device_name()"
      ],
      "execution_count": 0,
      "outputs": [
        {
          "output_type": "display_data",
          "data": {
            "text/html": [
              "<p style=\"color: red;\">\n",
              "The default version of TensorFlow in Colab will soon switch to TensorFlow 2.x.<br>\n",
              "We recommend you <a href=\"https://www.tensorflow.org/guide/migrate\" target=\"_blank\">upgrade</a> now \n",
              "or ensure your notebook will continue to use TensorFlow 1.x via the <code>%tensorflow_version 1.x</code> magic:\n",
              "<a href=\"https://colab.research.google.com/notebooks/tensorflow_version.ipynb\" target=\"_blank\">more info</a>.</p>\n"
            ],
            "text/plain": [
              "<IPython.core.display.HTML object>"
            ]
          },
          "metadata": {
            "tags": []
          }
        },
        {
          "output_type": "execute_result",
          "data": {
            "text/plain": [
              "'/device:GPU:0'"
            ]
          },
          "metadata": {
            "tags": []
          },
          "execution_count": 3
        }
      ]
    },
    {
      "cell_type": "code",
      "metadata": {
        "id": "aR18TR3TZGgW",
        "colab_type": "code",
        "outputId": "da7336b9-5770-4fd0-be80-e67c1b867a73",
        "colab": {
          "base_uri": "https://localhost:8080/",
          "height": 124
        }
      },
      "source": [
        "from google.colab import drive\n",
        "drive.mount('/content/drive')"
      ],
      "execution_count": 0,
      "outputs": [
        {
          "output_type": "stream",
          "text": [
            "Go to this URL in a browser: https://accounts.google.com/o/oauth2/auth?client_id=947318989803-6bn6qk8qdgf4n4g3pfee6491hc0brc4i.apps.googleusercontent.com&redirect_uri=urn%3aietf%3awg%3aoauth%3a2.0%3aoob&response_type=code&scope=email%20https%3a%2f%2fwww.googleapis.com%2fauth%2fdocs.test%20https%3a%2f%2fwww.googleapis.com%2fauth%2fdrive%20https%3a%2f%2fwww.googleapis.com%2fauth%2fdrive.photos.readonly%20https%3a%2f%2fwww.googleapis.com%2fauth%2fpeopleapi.readonly\n",
            "\n",
            "Enter your authorization code:\n",
            "··········\n",
            "Mounted at /content/drive\n"
          ],
          "name": "stdout"
        }
      ]
    },
    {
      "cell_type": "code",
      "metadata": {
        "id": "P3Nu8wyNZZfT",
        "colab_type": "code",
        "outputId": "bc7f786f-c061-4317-b2d8-a2196db1ddab",
        "colab": {
          "base_uri": "https://localhost:8080/",
          "height": 35
        }
      },
      "source": [
        "cd /content/drive/My Drive/Colab Notebooks/letsbox"
      ],
      "execution_count": 0,
      "outputs": [
        {
          "output_type": "stream",
          "text": [
            "/content/drive/My Drive/Colab Notebooks/letsbox\n"
          ],
          "name": "stdout"
        }
      ]
    },
    {
      "cell_type": "code",
      "metadata": {
        "id": "6shQfjpsFzOK",
        "colab_type": "code",
        "outputId": "f9660c37-9b07-4205-b0ad-f4a1e367e9ff",
        "colab": {
          "base_uri": "https://localhost:8080/",
          "height": 35
        }
      },
      "source": [
        "from keras.preprocessing.image import ImageDataGenerator\n",
        "from keras.models import Sequential\n",
        "from keras.layers.core import Dense, Dropout, Activation, Flatten, Reshape\n",
        "from keras.layers.convolutional import Conv3D, MaxPooling3D,Conv2D,AveragePooling2D,AveragePooling3D\n",
        "from keras.layers import Dense, GlobalAveragePooling3D,GlobalAveragePooling2D\n",
        "from keras.callbacks import EarlyStopping, ModelCheckpoint, LearningRateScheduler,ReduceLROnPlateau\n",
        "from keras.optimizers import SGD, RMSprop, Adadelta\n",
        "from keras.utils import np_utils, generic_utils\n",
        "from keras.layers.normalization import BatchNormalization\n",
        "from keras.layers.convolutional_recurrent import ConvLSTM2D\n",
        "\n",
        "# import theano\n",
        "import os\n",
        "import matplotlib\n",
        "import matplotlib.pyplot as plt\n",
        "import numpy as np\n",
        "import cv2\n",
        "from sklearn.model_selection import train_test_split\n",
        "from sklearn.model_selection import cross_validate\n",
        "from sklearn import preprocessing\n"
      ],
      "execution_count": 0,
      "outputs": [
        {
          "output_type": "stream",
          "text": [
            "Using TensorFlow backend.\n"
          ],
          "name": "stderr"
        }
      ]
    },
    {
      "cell_type": "code",
      "metadata": {
        "id": "JRuDguJjTNts",
        "colab_type": "code",
        "outputId": "80930f84-c37f-48a4-ace3-15ccd5094629",
        "colab": {
          "base_uri": "https://localhost:8080/",
          "height": 191
        }
      },
      "source": [
        "pip install git+https://github.com/okankop/vidaug"
      ],
      "execution_count": 0,
      "outputs": [
        {
          "output_type": "stream",
          "text": [
            "Collecting git+https://github.com/okankop/vidaug\n",
            "  Cloning https://github.com/okankop/vidaug to /tmp/pip-req-build-l0cyrm_q\n",
            "  Running command git clone -q https://github.com/okankop/vidaug /tmp/pip-req-build-l0cyrm_q\n",
            "Building wheels for collected packages: vidaug\n",
            "  Building wheel for vidaug (setup.py) ... \u001b[?25l\u001b[?25hdone\n",
            "  Created wheel for vidaug: filename=vidaug-0.1-cp36-none-any.whl size=13005 sha256=5f4fb5200f438ac08ee72217791b6a56071f8d1b9d2e9ac5434e5a87c066c268\n",
            "  Stored in directory: /tmp/pip-ephem-wheel-cache-4iq2myi4/wheels/3f/87/a3/14ed7eb5a878e2e239961990c700a400836e369fc109ecad86\n",
            "Successfully built vidaug\n",
            "Installing collected packages: vidaug\n",
            "Successfully installed vidaug-0.1\n"
          ],
          "name": "stdout"
        }
      ]
    },
    {
      "cell_type": "code",
      "metadata": {
        "id": "5Xa4PnMnS_Sv",
        "colab_type": "code",
        "colab": {}
      },
      "source": [
        "from vidaug import augmentors as va"
      ],
      "execution_count": 0,
      "outputs": []
    },
    {
      "cell_type": "code",
      "metadata": {
        "id": "F4nkU1OjS8Ul",
        "colab_type": "code",
        "colab": {}
      },
      "source": [
        "def vid_loader(path,showimg=False):\n",
        "    frames = []\n",
        "    cap = cv2.VideoCapture(path)\n",
        "    fps = cap.get(cv2.CAP_PROP_FPS) \n",
        "    frame_count = int(cap.get(cv2.CAP_PROP_FRAME_COUNT))\n",
        "#     print('number of frames = ' + str(frame_count))\n",
        "\n",
        "    for k in range(int(frame_count)):\n",
        "        ret, frame = cap.read()\n",
        "        frame=cv2.resize(frame,(128,128),interpolation=cv2.INTER_AREA)\n",
        "        rgb = cv2.cvtColor(frame, cv2.COLOR_BGR2RGB)\n",
        "        if showimg:\n",
        "            plt.imshow(gray)\n",
        "            plt.xticks([]), plt.yticks([])  # to hide tick values on X and Y axis\n",
        "            plt.show()\n",
        "        frames.append(rgb)\n",
        "    return np.array(frames)\n",
        "\n",
        "def crop_vid(np_vid,framecnt):\n",
        "    crop = va.TemporalCenterCrop(framecnt)\n",
        "    return crop(np_vid)\n",
        "\n",
        "def map_funcs(obj, func_list):\n",
        "    return [func(obj) for func in func_list]\n",
        "\n",
        "\n",
        "hflip = va.HorizontalFlip()\n",
        "inv_color = va.InvertColor()\n",
        "# add = va.Add(-100)\n",
        "# affine = va.PiecewiseAffineTransform(5,21,5)\n",
        "blur = va.GaussianBlur(1)\n",
        "translate = va.RandomTranslate(20,20)\n",
        "# shear = va.RandomShear(0.2,0.2)\n",
        "salt = va.Salt(30)\n",
        "# pepper = va.Pepper(30)\n",
        "\n",
        "# aug_func = [hflip,inv_color,add,affine,blur,translate,shear,salt,pepper]\n",
        "aug_func = [hflip,inv_color,blur,translate,salt]"
      ],
      "execution_count": 0,
      "outputs": []
    },
    {
      "cell_type": "code",
      "metadata": {
        "id": "6RJtKGszTgjV",
        "colab_type": "code",
        "colab": {}
      },
      "source": [
        "X_tr = []\n",
        "label = []\n",
        "img_rows,img_cols,img_depth=128,128,24\n",
        "\n",
        "ds_path = 'datasets'\n",
        "folders = ['jap','hook','uppercut','none']\n",
        "class_num = 0\n",
        "\n",
        "for sub in folders:\n",
        "    \n",
        "    ls_path = os.path.join(ds_path,sub)\n",
        "    listing = sorted(os.listdir(ls_path))\n",
        "    \n",
        "    for vid in listing:\n",
        "        all_from_one = []\n",
        "        vid_ls_path = os.path.join(ls_path,vid)\n",
        "        vid_np = vid_loader(vid_ls_path)\n",
        "        print(vid_ls_path+' loaded to np array')\n",
        "        \n",
        "        # first crop to 48 frames\n",
        "        vid_48 = crop_vid(vid_np,48)\n",
        "\n",
        "        # split 3 ways\n",
        "        center_frames = crop_vid(vid_48,img_depth)\n",
        "        # perform 6 augmentation to even_frames => length:6 x 24frame\n",
        "        all_from_one.append([center_frames])\n",
        "        all_from_one.append(map_funcs(center_frames,aug_func))\n",
        "        \n",
        "        even_frames = vid_48[::2] \n",
        "        all_from_one.append([even_frames])\n",
        "        all_from_one.append(map_funcs(even_frames,aug_func))\n",
        "        \n",
        "        odd_frames = vid_48[1::2]\n",
        "        all_from_one.append([odd_frames])\n",
        "        all_from_one.append(map_funcs(odd_frames,aug_func))\n",
        "        \n",
        "        for aug_vids in all_from_one:\n",
        "            for aug in aug_vids:\n",
        "                input_img = np.array(aug)\n",
        "                ipt=np.rollaxis(np.rollaxis(input_img,2,0),2,0)\n",
        "                ipt=np.rollaxis(ipt,2,0)\n",
        "                X_tr.append(ipt)\n",
        "                label.append(class_num)\n",
        "        \n",
        "    class_num+=1\n",
        "\n",
        "X_tr_array = np.array(X_tr)   # convert the frames read into array\n",
        "#     # print (ipt.shape)\n",
        "num_samples = len(X_tr) \n",
        "print (num_samples)"
      ],
      "execution_count": 0,
      "outputs": []
    },
    {
      "cell_type": "code",
      "metadata": {
        "id": "yxznoXa2FzPn",
        "colab_type": "code",
        "colab": {}
      },
      "source": [
        "label=np.asarray(label,dtype = int)"
      ],
      "execution_count": 0,
      "outputs": []
    },
    {
      "cell_type": "code",
      "metadata": {
        "id": "-mcREv7AFzPw",
        "colab_type": "code",
        "outputId": "b5b4b3af-3cdc-498c-925b-cb1a77c0ef99",
        "colab": {
          "base_uri": "https://localhost:8080/",
          "height": 35
        }
      },
      "source": [
        "train_data = [X_tr_array,label]\n",
        "\n",
        "(X_train, y_train) = (train_data[0],train_data[1])\n",
        "print('X_Train shape:', X_train.shape)\n",
        "\n",
        "# train_set = np.zeros((num_samples, img_depth, img_cols,img_rows,3))\n",
        "\n",
        "# for h in range(num_samples):\n",
        "#     train_set[h][:][:][:][:]=X_train[h,:,:,:]\n",
        "  \n",
        "patch_size = 24    # img_depth or number of frames used for each video\n",
        "\n",
        "# print(train_set.shape, 'train samples')\n"
      ],
      "execution_count": 0,
      "outputs": [
        {
          "output_type": "stream",
          "text": [
            "X_Train shape: (3672, 24, 128, 128, 3)\n"
          ],
          "name": "stdout"
        }
      ]
    },
    {
      "cell_type": "code",
      "metadata": {
        "id": "s6welEcEFzPz",
        "colab_type": "code",
        "colab": {}
      },
      "source": [
        "# CNN Training parameters\n",
        "nb_classes = 4"
      ],
      "execution_count": 0,
      "outputs": []
    },
    {
      "cell_type": "code",
      "metadata": {
        "id": "i1djp5UmFzP5",
        "colab_type": "code",
        "colab": {}
      },
      "source": [
        "# convert class vectors to binary class matrices\n",
        "Y_train = np_utils.to_categorical(y_train, nb_classes)"
      ],
      "execution_count": 0,
      "outputs": []
    },
    {
      "cell_type": "code",
      "metadata": {
        "id": "qTkRKrSzFzP-",
        "colab_type": "code",
        "outputId": "f520fdf5-b021-4373-a76b-55870a04d72e",
        "colab": {
          "base_uri": "https://localhost:8080/",
          "height": 52
        }
      },
      "source": [
        "# Pre-processing\n",
        "\n",
        "train_set = X_train.astype('float16')\n",
        "print(np.mean(train_set))\n",
        "train_set -= np.mean(train_set)\n",
        "print(np.max(train_set))\n",
        "train_set /=np.max(train_set)"
      ],
      "execution_count": 0,
      "outputs": [
        {
          "output_type": "stream",
          "text": [
            "111.6\n",
            "143.4\n"
          ],
          "name": "stdout"
        }
      ]
    },
    {
      "cell_type": "code",
      "metadata": {
        "id": "lkkDcITqFzQm",
        "colab_type": "code",
        "colab": {}
      },
      "source": [
        "X_train_new, X_val_new, y_train_new,y_val_new = train_test_split(train_set, Y_train, test_size=0.2, random_state=20, stratify=Y_train)"
      ],
      "execution_count": 0,
      "outputs": []
    },
    {
      "cell_type": "code",
      "metadata": {
        "id": "oMspkOb3FzQJ",
        "colab_type": "code",
        "colab": {}
      },
      "source": [
        "# Define model\n",
        "weight_decay = 0.00005\n",
        "import tensorflow as tf\n",
        "keras=tf.contrib.keras\n",
        "l2=keras.regularizers.l2\n",
        "\n",
        "model = Sequential()\n",
        "model.add(Conv3D(16,(3,3,3),\n",
        "                        input_shape=(patch_size, img_cols, img_rows, 3),\n",
        "                        activation='relu'))\n",
        "model.add(Conv3D(16,(3,3,3), strides=(1,1,1),padding='same', \n",
        "                    dilation_rate=(1,1,1), kernel_initializer='he_normal',\n",
        "                    kernel_regularizer=l2(weight_decay), use_bias=False, \n",
        "                    name='Conv3D_2a_a', activation = 'relu'))\n",
        "model.add(MaxPooling3D(pool_size=(2,2,2)))\n",
        "\n",
        "\n",
        "model.add(Conv3D(32,(3,3,3), strides=(1,1,1),padding='same', \n",
        "                    dilation_rate=(1,1,1), kernel_initializer='he_normal',\n",
        "                    kernel_regularizer=l2(weight_decay), use_bias=False, \n",
        "                    name='Conv3D_2b_a', activation = 'relu'))\n",
        "model.add(Conv3D(32,(3,3,3), strides=(1,1,1),padding='same', \n",
        "                    dilation_rate=(1,1,1), kernel_initializer='he_normal',\n",
        "                    kernel_regularizer=l2(weight_decay), use_bias=False, \n",
        "                    name='Conv3D_2b_b', activation = 'relu'))\n",
        "model.add(MaxPooling3D(pool_size=(1, 2,2)))\n",
        "\n",
        "\n",
        "model.add(Conv3D(64,(3,3,3), strides=(1,1,1),padding='same', \n",
        "                    dilation_rate=(1,1,1), kernel_initializer='he_normal',\n",
        "                    kernel_regularizer=l2(weight_decay), use_bias=False, \n",
        "                    name='Conv3D_2c_a', activation = 'relu'))\n",
        "model.add(Conv3D(64,(3,3,3), strides=(1,1,1),padding='same', \n",
        "                    dilation_rate=(1,1,1), kernel_initializer='he_normal',\n",
        "                    kernel_regularizer=l2(weight_decay), use_bias=False, \n",
        "                    name='Conv3D_2c_b', activation = 'relu'))\n",
        "model.add(Conv3D(64,(3,3,3), strides=(1,1,1),padding='same', \n",
        "                    dilation_rate=(1,1,1), kernel_initializer='he_normal',\n",
        "                    kernel_regularizer=l2(weight_decay), use_bias=False, \n",
        "                    name='Conv3D_2c_c', activation = 'relu'))\n",
        "model.add(MaxPooling3D(pool_size=(1, 2,2)))\n",
        "\n",
        "\n",
        "model.add(Conv3D(128,(3,3,3), strides=(1,1,1),padding='same', \n",
        "                    dilation_rate=(1,1,1), kernel_initializer='he_normal',\n",
        "                    kernel_regularizer=l2(weight_decay), use_bias=False, \n",
        "                    name='Conv3D_2d_a', activation = 'relu'))\n",
        "model.add(Conv3D(128,(3,3,3), strides=(1,1,1),padding='same', \n",
        "                    dilation_rate=(1,1,1), kernel_initializer='he_normal',\n",
        "                    kernel_regularizer=l2(weight_decay), use_bias=False, \n",
        "                    name='Conv3D_2d_b', activation = 'relu'))\n",
        "model.add(Conv3D(128,(3,3,3), strides=(1,1,1),padding='same', \n",
        "                    dilation_rate=(1,1,1), kernel_initializer='he_normal',\n",
        "                    kernel_regularizer=l2(weight_decay), use_bias=False, \n",
        "                    name='Conv3D_2d_c', activation = 'relu'))\n",
        "model.add(MaxPooling3D(pool_size=(1, 2, 2)))\n",
        "\n",
        "\n",
        "\n",
        "\n",
        "\n",
        "\n",
        "model.add(ConvLSTM2D(filters=64, kernel_size=(3,3),\n",
        "                  strides=(1,1),padding='same',\n",
        "                      kernel_initializer='he_normal', recurrent_initializer='he_normal',\n",
        "                      kernel_regularizer=l2(weight_decay), recurrent_regularizer=l2(weight_decay),\n",
        "                      return_sequences=True, name='gatedclstm2d_2'))\n",
        "\n",
        "model.add(ConvLSTM2D(filters=64, kernel_size=(3,3),\n",
        "                  strides=(1,1),padding='same',\n",
        "                      kernel_initializer='he_normal', recurrent_initializer='he_normal',\n",
        "                      kernel_regularizer=l2(weight_decay), recurrent_regularizer=l2(weight_decay),\n",
        "                      return_sequences=True, name='gatedclstm2d_3'))\n",
        "\n",
        "model.add(ConvLSTM2D(filters=64, kernel_size=(3,3),\n",
        "                  strides=(1,1),padding='same',\n",
        "                      kernel_initializer='he_normal', recurrent_initializer='he_normal',\n",
        "                      kernel_regularizer=l2(weight_decay), recurrent_regularizer=l2(weight_decay),\n",
        "                      return_sequences=True, name='gatedclstm2d_4'))\n",
        "\n",
        "\n",
        "#model.add(MaxPooling3D(pool_size=(nb_pool[0], nb_pool[0], nb_pool[0])))\n",
        "#model.add(Flatten())\n",
        "model.add(GlobalAveragePooling3D())\n",
        "model.add(Dropout(0.5))\n",
        "model.add(Dense(nb_classes,kernel_initializer='normal'))\n",
        "\n",
        "model.add(Activation('softmax'))"
      ],
      "execution_count": 0,
      "outputs": []
    },
    {
      "cell_type": "code",
      "metadata": {
        "id": "ttMAemwgFzQW",
        "colab_type": "code",
        "outputId": "161e200a-6518-4937-c8da-a6dfa5c8b2bf",
        "colab": {
          "base_uri": "https://localhost:8080/",
          "height": 884
        }
      },
      "source": [
        "model.summary()"
      ],
      "execution_count": 0,
      "outputs": [
        {
          "output_type": "stream",
          "text": [
            "Model: \"sequential_1\"\n",
            "_________________________________________________________________\n",
            "Layer (type)                 Output Shape              Param #   \n",
            "=================================================================\n",
            "conv3d_1 (Conv3D)            (None, 22, 126, 126, 16)  1312      \n",
            "_________________________________________________________________\n",
            "Conv3D_2a_a (Conv3D)         (None, 22, 126, 126, 16)  6912      \n",
            "_________________________________________________________________\n",
            "max_pooling3d_1 (MaxPooling3 (None, 11, 63, 63, 16)    0         \n",
            "_________________________________________________________________\n",
            "Conv3D_2b_a (Conv3D)         (None, 11, 63, 63, 32)    13824     \n",
            "_________________________________________________________________\n",
            "Conv3D_2b_b (Conv3D)         (None, 11, 63, 63, 32)    27648     \n",
            "_________________________________________________________________\n",
            "max_pooling3d_2 (MaxPooling3 (None, 11, 31, 31, 32)    0         \n",
            "_________________________________________________________________\n",
            "Conv3D_2c_a (Conv3D)         (None, 11, 31, 31, 64)    55296     \n",
            "_________________________________________________________________\n",
            "Conv3D_2c_b (Conv3D)         (None, 11, 31, 31, 64)    110592    \n",
            "_________________________________________________________________\n",
            "Conv3D_2c_c (Conv3D)         (None, 11, 31, 31, 64)    110592    \n",
            "_________________________________________________________________\n",
            "max_pooling3d_3 (MaxPooling3 (None, 11, 15, 15, 64)    0         \n",
            "_________________________________________________________________\n",
            "Conv3D_2d_a (Conv3D)         (None, 11, 15, 15, 128)   221184    \n",
            "_________________________________________________________________\n",
            "Conv3D_2d_b (Conv3D)         (None, 11, 15, 15, 128)   442368    \n",
            "_________________________________________________________________\n",
            "Conv3D_2d_c (Conv3D)         (None, 11, 15, 15, 128)   442368    \n",
            "_________________________________________________________________\n",
            "max_pooling3d_4 (MaxPooling3 (None, 11, 7, 7, 128)     0         \n",
            "_________________________________________________________________\n",
            "gatedclstm2d_2 (ConvLSTM2D)  (None, 11, 7, 7, 64)      442624    \n",
            "_________________________________________________________________\n",
            "gatedclstm2d_3 (ConvLSTM2D)  (None, 11, 7, 7, 64)      295168    \n",
            "_________________________________________________________________\n",
            "gatedclstm2d_4 (ConvLSTM2D)  (None, 11, 7, 7, 64)      295168    \n",
            "_________________________________________________________________\n",
            "global_average_pooling3d_1 ( (None, 64)                0         \n",
            "_________________________________________________________________\n",
            "dropout_1 (Dropout)          (None, 64)                0         \n",
            "_________________________________________________________________\n",
            "dense_1 (Dense)              (None, 4)                 260       \n",
            "_________________________________________________________________\n",
            "activation_1 (Activation)    (None, 4)                 0         \n",
            "=================================================================\n",
            "Total params: 2,465,316\n",
            "Trainable params: 2,465,316\n",
            "Non-trainable params: 0\n",
            "_________________________________________________________________\n"
          ],
          "name": "stdout"
        }
      ]
    },
    {
      "cell_type": "code",
      "metadata": {
        "id": "SvefaoWfFzQd",
        "colab_type": "code",
        "colab": {}
      },
      "source": [
        "# import os\n",
        "save_dir = os.path.join(os.getcwd(),'saved_model')\n",
        "# print(os.getcwd())\n",
        "\n",
        "model_name = \"3DCNN+3LSTM_128_4_aug_v4.h5\"\n",
        "# if not os.path.isdir(save_dir):\n",
        "#     os.makedirs(save_dir)\n",
        "model_path = os.path.join(save_dir, model_name)\n",
        "checkpoint = ModelCheckpoint(model_path, monitor = 'val_acc', \n",
        "                            save_best_only=True, verbose=1)\n",
        "#earlystop\n",
        "earlystop = EarlyStopping(monitor='val_loss', patience=50, verbose =1)"
      ],
      "execution_count": 0,
      "outputs": []
    },
    {
      "cell_type": "code",
      "metadata": {
        "id": "GQ2O-iE5FzQi",
        "colab_type": "code",
        "colab": {}
      },
      "source": [
        "sgd = SGD(lr=0.005,  momentum=0.9, nesterov=False)\n",
        "# rms = RMSprop(decay=1e-6)\n",
        "# ada = Adadelta(lr=0.1,decay=1e-6)\n",
        "model.compile(loss='categorical_crossentropy', \n",
        "              optimizer=sgd,\n",
        "              #optimizer=ada,\n",
        "              #optimizer = Adam(lr=0.0001),\n",
        "              metrics=['acc'])\n",
        "# Split the data\n"
      ],
      "execution_count": 0,
      "outputs": []
    },
    {
      "cell_type": "code",
      "metadata": {
        "id": "6iyrwXt4rZ1y",
        "colab_type": "code",
        "outputId": "e968e7b5-e0c7-4488-a927-e23af2a34898",
        "colab": {
          "base_uri": "https://localhost:8080/",
          "height": 1000
        }
      },
      "source": [
        "batch_size = 50\n",
        "nb_epoch = 50\n",
        "#steps_per_epoch=int((len(X_val_new)*1.5)/batch_size)\n",
        "lr_reducer = ReduceLROnPlateau(monitor='val_loss', factor=0.05, \n",
        "                               cooldown=0, patience=10, min_lr=0.005/(2^4),verbose=1)\n",
        "hist = model.fit(\n",
        "    X_train_new,\n",
        "    y_train_new,\n",
        "    validation_data=(X_val_new,y_val_new),\n",
        "    batch_size=batch_size,\n",
        "    epochs = nb_epoch,\n",
        "    shuffle=True,\n",
        "    callbacks=[checkpoint,lr_reducer]\n",
        "    )"
      ],
      "execution_count": 0,
      "outputs": [
        {
          "output_type": "stream",
          "text": [
            "Train on 2937 samples, validate on 735 samples\n",
            "Epoch 1/50\n",
            "2937/2937 [==============================] - 322s 110ms/step - loss: 1.6074 - acc: 0.2438 - val_loss: 1.6049 - val_acc: 0.2367\n",
            "\n",
            "Epoch 00001: val_acc improved from -inf to 0.23673, saving model to /content/drive/My Drive/Colab Notebooks/letsbox/saved_model/3DCNN+3LSTM_128_4_aug_v4.h5\n",
            "Epoch 2/50\n",
            "2937/2937 [==============================] - 307s 104ms/step - loss: 1.6060 - acc: 0.2571 - val_loss: 1.6047 - val_acc: 0.2517\n",
            "\n",
            "Epoch 00002: val_acc improved from 0.23673 to 0.25170, saving model to /content/drive/My Drive/Colab Notebooks/letsbox/saved_model/3DCNN+3LSTM_128_4_aug_v4.h5\n",
            "Epoch 3/50\n",
            "2937/2937 [==============================] - 308s 105ms/step - loss: 1.6052 - acc: 0.2618 - val_loss: 1.6043 - val_acc: 0.2544\n",
            "\n",
            "Epoch 00003: val_acc improved from 0.25170 to 0.25442, saving model to /content/drive/My Drive/Colab Notebooks/letsbox/saved_model/3DCNN+3LSTM_128_4_aug_v4.h5\n",
            "Epoch 4/50\n",
            "2937/2937 [==============================] - 307s 105ms/step - loss: 1.6052 - acc: 0.2411 - val_loss: 1.6043 - val_acc: 0.2599\n",
            "\n",
            "Epoch 00004: val_acc improved from 0.25442 to 0.25986, saving model to /content/drive/My Drive/Colab Notebooks/letsbox/saved_model/3DCNN+3LSTM_128_4_aug_v4.h5\n",
            "Epoch 5/50\n",
            "2937/2937 [==============================] - 307s 104ms/step - loss: 1.6040 - acc: 0.2567 - val_loss: 1.6035 - val_acc: 0.2789\n",
            "\n",
            "Epoch 00005: val_acc improved from 0.25986 to 0.27891, saving model to /content/drive/My Drive/Colab Notebooks/letsbox/saved_model/3DCNN+3LSTM_128_4_aug_v4.h5\n",
            "Epoch 6/50\n",
            "2937/2937 [==============================] - 307s 105ms/step - loss: 1.6049 - acc: 0.2438 - val_loss: 1.6030 - val_acc: 0.2544\n",
            "\n",
            "Epoch 00006: val_acc did not improve from 0.27891\n",
            "Epoch 7/50\n",
            "2937/2937 [==============================] - 307s 104ms/step - loss: 1.6025 - acc: 0.2608 - val_loss: 1.6013 - val_acc: 0.3075\n",
            "\n",
            "Epoch 00007: val_acc improved from 0.27891 to 0.30748, saving model to /content/drive/My Drive/Colab Notebooks/letsbox/saved_model/3DCNN+3LSTM_128_4_aug_v4.h5\n",
            "Epoch 8/50\n",
            "2937/2937 [==============================] - 306s 104ms/step - loss: 1.6012 - acc: 0.2812 - val_loss: 1.5989 - val_acc: 0.3075\n",
            "\n",
            "Epoch 00008: val_acc did not improve from 0.30748\n",
            "Epoch 9/50\n",
            "2937/2937 [==============================] - 306s 104ms/step - loss: 1.5986 - acc: 0.2901 - val_loss: 1.5959 - val_acc: 0.2980\n",
            "\n",
            "Epoch 00009: val_acc did not improve from 0.30748\n",
            "Epoch 10/50\n",
            "2937/2937 [==============================] - 306s 104ms/step - loss: 1.5970 - acc: 0.2836 - val_loss: 1.5964 - val_acc: 0.3116\n",
            "\n",
            "Epoch 00010: val_acc improved from 0.30748 to 0.31156, saving model to /content/drive/My Drive/Colab Notebooks/letsbox/saved_model/3DCNN+3LSTM_128_4_aug_v4.h5\n",
            "Epoch 11/50\n",
            "2937/2937 [==============================] - 306s 104ms/step - loss: 1.5982 - acc: 0.2836 - val_loss: 1.5950 - val_acc: 0.3048\n",
            "\n",
            "Epoch 00011: val_acc did not improve from 0.31156\n",
            "Epoch 12/50\n",
            "2937/2937 [==============================] - 304s 103ms/step - loss: 1.5959 - acc: 0.2802 - val_loss: 1.5942 - val_acc: 0.3007\n",
            "\n",
            "Epoch 00012: val_acc did not improve from 0.31156\n",
            "Epoch 13/50\n",
            "2937/2937 [==============================] - 304s 104ms/step - loss: 1.5869 - acc: 0.3003 - val_loss: 1.5821 - val_acc: 0.3034\n",
            "\n",
            "Epoch 00013: val_acc did not improve from 0.31156\n",
            "Epoch 14/50\n",
            "2937/2937 [==============================] - 304s 103ms/step - loss: 1.5303 - acc: 0.3769 - val_loss: 1.4039 - val_acc: 0.4503\n",
            "\n",
            "Epoch 00014: val_acc improved from 0.31156 to 0.45034, saving model to /content/drive/My Drive/Colab Notebooks/letsbox/saved_model/3DCNN+3LSTM_128_4_aug_v4.h5\n",
            "Epoch 15/50\n",
            "2937/2937 [==============================] - 303s 103ms/step - loss: 1.3868 - acc: 0.4508 - val_loss: 1.2678 - val_acc: 0.5088\n",
            "\n",
            "Epoch 00015: val_acc improved from 0.45034 to 0.50884, saving model to /content/drive/My Drive/Colab Notebooks/letsbox/saved_model/3DCNN+3LSTM_128_4_aug_v4.h5\n",
            "Epoch 16/50\n",
            "2937/2937 [==============================] - 304s 104ms/step - loss: 1.2231 - acc: 0.5410 - val_loss: 1.1513 - val_acc: 0.6259\n",
            "\n",
            "Epoch 00016: val_acc improved from 0.50884 to 0.62585, saving model to /content/drive/My Drive/Colab Notebooks/letsbox/saved_model/3DCNN+3LSTM_128_4_aug_v4.h5\n",
            "Epoch 17/50\n",
            "2937/2937 [==============================] - 306s 104ms/step - loss: 1.0955 - acc: 0.6258 - val_loss: 1.0207 - val_acc: 0.6762\n",
            "\n",
            "Epoch 00017: val_acc improved from 0.62585 to 0.67619, saving model to /content/drive/My Drive/Colab Notebooks/letsbox/saved_model/3DCNN+3LSTM_128_4_aug_v4.h5\n",
            "Epoch 18/50\n",
            "2937/2937 [==============================] - 306s 104ms/step - loss: 0.8870 - acc: 0.7280 - val_loss: 0.8117 - val_acc: 0.7537\n",
            "\n",
            "Epoch 00018: val_acc improved from 0.67619 to 0.75374, saving model to /content/drive/My Drive/Colab Notebooks/letsbox/saved_model/3DCNN+3LSTM_128_4_aug_v4.h5\n",
            "Epoch 19/50\n",
            "2937/2937 [==============================] - 305s 104ms/step - loss: 0.7851 - acc: 0.7514 - val_loss: 0.7078 - val_acc: 0.8027\n",
            "\n",
            "Epoch 00019: val_acc improved from 0.75374 to 0.80272, saving model to /content/drive/My Drive/Colab Notebooks/letsbox/saved_model/3DCNN+3LSTM_128_4_aug_v4.h5\n",
            "Epoch 20/50\n",
            "2937/2937 [==============================] - 304s 104ms/step - loss: 0.6814 - acc: 0.7947 - val_loss: 0.6840 - val_acc: 0.8204\n",
            "\n",
            "Epoch 00020: val_acc improved from 0.80272 to 0.82041, saving model to /content/drive/My Drive/Colab Notebooks/letsbox/saved_model/3DCNN+3LSTM_128_4_aug_v4.h5\n",
            "Epoch 21/50\n",
            "2937/2937 [==============================] - 305s 104ms/step - loss: 0.7046 - acc: 0.8001 - val_loss: 0.6569 - val_acc: 0.8109\n",
            "\n",
            "Epoch 00021: val_acc did not improve from 0.82041\n",
            "Epoch 22/50\n",
            "2937/2937 [==============================] - 304s 104ms/step - loss: 0.6223 - acc: 0.8372 - val_loss: 0.5608 - val_acc: 0.8612\n",
            "\n",
            "Epoch 00022: val_acc improved from 0.82041 to 0.86122, saving model to /content/drive/My Drive/Colab Notebooks/letsbox/saved_model/3DCNN+3LSTM_128_4_aug_v4.h5\n",
            "Epoch 23/50\n",
            "2937/2937 [==============================] - 306s 104ms/step - loss: 0.5864 - acc: 0.8543 - val_loss: 0.5222 - val_acc: 0.8871\n",
            "\n",
            "Epoch 00023: val_acc improved from 0.86122 to 0.88707, saving model to /content/drive/My Drive/Colab Notebooks/letsbox/saved_model/3DCNN+3LSTM_128_4_aug_v4.h5\n",
            "Epoch 24/50\n",
            "2937/2937 [==============================] - 307s 104ms/step - loss: 0.5185 - acc: 0.8873 - val_loss: 0.4930 - val_acc: 0.8748\n",
            "\n",
            "Epoch 00024: val_acc did not improve from 0.88707\n",
            "Epoch 25/50\n",
            "2937/2937 [==============================] - 307s 105ms/step - loss: 0.4864 - acc: 0.9053 - val_loss: 0.5200 - val_acc: 0.8626\n",
            "\n",
            "Epoch 00025: val_acc did not improve from 0.88707\n",
            "Epoch 26/50\n",
            "2937/2937 [==============================] - 306s 104ms/step - loss: 0.4373 - acc: 0.9241 - val_loss: 0.3894 - val_acc: 0.9442\n",
            "\n",
            "Epoch 00026: val_acc improved from 0.88707 to 0.94422, saving model to /content/drive/My Drive/Colab Notebooks/letsbox/saved_model/3DCNN+3LSTM_128_4_aug_v4.h5\n",
            "Epoch 27/50\n",
            "2937/2937 [==============================] - 307s 105ms/step - loss: 0.4325 - acc: 0.9231 - val_loss: 0.3685 - val_acc: 0.9469\n",
            "\n",
            "Epoch 00027: val_acc improved from 0.94422 to 0.94694, saving model to /content/drive/My Drive/Colab Notebooks/letsbox/saved_model/3DCNN+3LSTM_128_4_aug_v4.h5\n",
            "Epoch 28/50\n",
            "2937/2937 [==============================] - 306s 104ms/step - loss: 0.4086 - acc: 0.9339 - val_loss: 0.4371 - val_acc: 0.9238\n",
            "\n",
            "Epoch 00028: val_acc did not improve from 0.94694\n",
            "Epoch 29/50\n",
            "2937/2937 [==============================] - 305s 104ms/step - loss: 0.4060 - acc: 0.9346 - val_loss: 0.3483 - val_acc: 0.9524\n",
            "\n",
            "Epoch 00029: val_acc improved from 0.94694 to 0.95238, saving model to /content/drive/My Drive/Colab Notebooks/letsbox/saved_model/3DCNN+3LSTM_128_4_aug_v4.h5\n",
            "Epoch 30/50\n",
            "2937/2937 [==============================] - 304s 104ms/step - loss: 0.3743 - acc: 0.9476 - val_loss: 0.3359 - val_acc: 0.9565\n",
            "\n",
            "Epoch 00030: val_acc improved from 0.95238 to 0.95646, saving model to /content/drive/My Drive/Colab Notebooks/letsbox/saved_model/3DCNN+3LSTM_128_4_aug_v4.h5\n",
            "Epoch 31/50\n",
            "2937/2937 [==============================] - 304s 104ms/step - loss: 0.3534 - acc: 0.9574 - val_loss: 0.3286 - val_acc: 0.9633\n",
            "\n",
            "Epoch 00031: val_acc improved from 0.95646 to 0.96327, saving model to /content/drive/My Drive/Colab Notebooks/letsbox/saved_model/3DCNN+3LSTM_128_4_aug_v4.h5\n",
            "Epoch 32/50\n",
            "2937/2937 [==============================] - 302s 103ms/step - loss: 0.4166 - acc: 0.9302 - val_loss: 0.3336 - val_acc: 0.9646\n",
            "\n",
            "Epoch 00032: val_acc improved from 0.96327 to 0.96463, saving model to /content/drive/My Drive/Colab Notebooks/letsbox/saved_model/3DCNN+3LSTM_128_4_aug_v4.h5\n",
            "Epoch 33/50\n",
            "2937/2937 [==============================] - 302s 103ms/step - loss: 0.3301 - acc: 0.9660 - val_loss: 0.2946 - val_acc: 0.9782\n",
            "\n",
            "Epoch 00033: val_acc improved from 0.96463 to 0.97823, saving model to /content/drive/My Drive/Colab Notebooks/letsbox/saved_model/3DCNN+3LSTM_128_4_aug_v4.h5\n",
            "Epoch 34/50\n",
            "2937/2937 [==============================] - 302s 103ms/step - loss: 0.3103 - acc: 0.9731 - val_loss: 0.2956 - val_acc: 0.9769\n",
            "\n",
            "Epoch 00034: val_acc did not improve from 0.97823\n",
            "Epoch 35/50\n",
            "2937/2937 [==============================] - 302s 103ms/step - loss: 0.3262 - acc: 0.9673 - val_loss: 0.3670 - val_acc: 0.9469\n",
            "\n",
            "Epoch 00035: val_acc did not improve from 0.97823\n",
            "Epoch 36/50\n",
            "2937/2937 [==============================] - 302s 103ms/step - loss: 0.3047 - acc: 0.9728 - val_loss: 0.3096 - val_acc: 0.9714\n",
            "\n",
            "Epoch 00036: val_acc did not improve from 0.97823\n",
            "Epoch 37/50\n",
            "2937/2937 [==============================] - 303s 103ms/step - loss: 0.3405 - acc: 0.9632 - val_loss: 0.4987 - val_acc: 0.8925\n",
            "\n",
            "Epoch 00037: val_acc did not improve from 0.97823\n",
            "Epoch 38/50\n",
            "2937/2937 [==============================] - 303s 103ms/step - loss: 0.4010 - acc: 0.9367 - val_loss: 0.3191 - val_acc: 0.9592\n",
            "\n",
            "Epoch 00038: val_acc did not improve from 0.97823\n",
            "Epoch 39/50\n",
            "2937/2937 [==============================] - 303s 103ms/step - loss: 0.3007 - acc: 0.9775 - val_loss: 0.3032 - val_acc: 0.9714\n",
            "\n",
            "Epoch 00039: val_acc did not improve from 0.97823\n",
            "Epoch 40/50\n",
            "2937/2937 [==============================] - 304s 104ms/step - loss: 0.2854 - acc: 0.9816 - val_loss: 0.2863 - val_acc: 0.9823\n",
            "\n",
            "Epoch 00040: val_acc improved from 0.97823 to 0.98231, saving model to /content/drive/My Drive/Colab Notebooks/letsbox/saved_model/3DCNN+3LSTM_128_4_aug_v4.h5\n",
            "Epoch 41/50\n",
            "2937/2937 [==============================] - 305s 104ms/step - loss: 0.2660 - acc: 0.9898 - val_loss: 0.2625 - val_acc: 0.9864\n",
            "\n",
            "Epoch 00041: val_acc improved from 0.98231 to 0.98639, saving model to /content/drive/My Drive/Colab Notebooks/letsbox/saved_model/3DCNN+3LSTM_128_4_aug_v4.h5\n",
            "Epoch 42/50\n",
            "2937/2937 [==============================] - 304s 103ms/step - loss: 0.2783 - acc: 0.9850 - val_loss: 0.3025 - val_acc: 0.9741\n",
            "\n",
            "Epoch 00042: val_acc did not improve from 0.98639\n",
            "Epoch 43/50\n",
            "2937/2937 [==============================] - 305s 104ms/step - loss: 0.3280 - acc: 0.9649 - val_loss: 0.3120 - val_acc: 0.9701\n",
            "\n",
            "Epoch 00043: val_acc did not improve from 0.98639\n",
            "Epoch 44/50\n",
            "2937/2937 [==============================] - 305s 104ms/step - loss: 0.2825 - acc: 0.9816 - val_loss: 0.2823 - val_acc: 0.9891\n",
            "\n",
            "Epoch 00044: val_acc improved from 0.98639 to 0.98912, saving model to /content/drive/My Drive/Colab Notebooks/letsbox/saved_model/3DCNN+3LSTM_128_4_aug_v4.h5\n",
            "Epoch 45/50\n",
            "2937/2937 [==============================] - 305s 104ms/step - loss: 0.3890 - acc: 0.9496 - val_loss: 0.3920 - val_acc: 0.9415\n",
            "\n",
            "Epoch 00045: val_acc did not improve from 0.98912\n",
            "Epoch 46/50\n",
            "2937/2937 [==============================] - 305s 104ms/step - loss: 0.3000 - acc: 0.9755 - val_loss: 0.2812 - val_acc: 0.9810\n",
            "\n",
            "Epoch 00046: val_acc did not improve from 0.98912\n",
            "Epoch 47/50\n",
            "2937/2937 [==============================] - 305s 104ms/step - loss: 0.2688 - acc: 0.9884 - val_loss: 0.2632 - val_acc: 0.9918\n",
            "\n",
            "Epoch 00047: val_acc improved from 0.98912 to 0.99184, saving model to /content/drive/My Drive/Colab Notebooks/letsbox/saved_model/3DCNN+3LSTM_128_4_aug_v4.h5\n",
            "Epoch 48/50\n",
            "2937/2937 [==============================] - 304s 104ms/step - loss: 0.2513 - acc: 0.9932 - val_loss: 0.2619 - val_acc: 0.9823\n",
            "\n",
            "Epoch 00048: val_acc did not improve from 0.99184\n",
            "Epoch 49/50\n",
            "2937/2937 [==============================] - 304s 104ms/step - loss: 0.2430 - acc: 0.9963 - val_loss: 0.2600 - val_acc: 0.9905\n",
            "\n",
            "Epoch 00049: val_acc did not improve from 0.99184\n",
            "Epoch 50/50\n",
            "2937/2937 [==============================] - 305s 104ms/step - loss: 0.2417 - acc: 0.9966 - val_loss: 0.2784 - val_acc: 0.9891\n",
            "\n",
            "Epoch 00050: val_acc did not improve from 0.99184\n"
          ],
          "name": "stdout"
        }
      ]
    },
    {
      "cell_type": "code",
      "metadata": {
        "id": "-_UWBU6ZFzQv",
        "colab_type": "code",
        "outputId": "a03ddf9b-64b4-4ac3-b7b3-1907dba79130",
        "colab": {
          "base_uri": "https://localhost:8080/",
          "height": 295
        }
      },
      "source": [
        "training_loss = hist.history['loss']\n",
        "val_loss = hist.history['val_loss']\n",
        "\n",
        "plt.plot(training_loss, label=\"training_loss\")\n",
        "plt.plot(val_loss, label=\"validation_loss\")\n",
        "plt.xlabel(\"Epochs\")\n",
        "plt.ylabel(\"Loss\")\n",
        "plt.title(\"Learning Curve\")\n",
        "plt.legend(loc='best')\n",
        "plt.show()"
      ],
      "execution_count": 0,
      "outputs": [
        {
          "output_type": "display_data",
          "data": {
            "image/png": "[encoded data removed]",
            "text/plain": [
              "<Figure size 432x288 with 1 Axes>"
            ]
          },
          "metadata": {
            "tags": []
          }
        }
      ]
    },
    {
      "cell_type": "code",
      "metadata": {
        "id": "Io2bqLiW88CJ",
        "colab_type": "code",
        "colab": {}
      },
      "source": [
        ""
      ],
      "execution_count": 0,
      "outputs": []
    },
    {
      "cell_type": "code",
      "metadata": {
        "id": "3Jqip3s2FzQ2",
        "colab_type": "code",
        "outputId": "5901c8f6-f519-49c4-ac88-afdb9e593c16",
        "colab": {
          "base_uri": "https://localhost:8080/",
          "height": 295
        }
      },
      "source": [
        "training_acc = hist.history['acc']\n",
        "val_acc = hist.history['val_acc']\n",
        "\n",
        "plt.plot(training_acc, label=\"training_accuracy\")\n",
        "plt.plot(val_acc, label=\"validation_accuracy\")\n",
        "plt.xlabel(\"Epochs\")\n",
        "plt.ylabel(\"accuracy\")\n",
        "plt.title(\"Learning Curve\")\n",
        "plt.legend(loc='best')\n",
        "plt.show()"
      ],
      "execution_count": 0,
      "outputs": [
        {
          "output_type": "display_data",
          "data": {
            "image/png": "[encoded data removed]",
            "text/plain": [
              "<Figure size 432x288 with 1 Axes>"
            ]
          },
          "metadata": {
            "tags": []
          }
        }
      ]
    },
    {
      "cell_type": "code",
      "metadata": {
        "id": "58ayXvxZFzSB",
        "colab_type": "code",
        "colab": {}
      },
      "source": [
        "from keras import backend as K\n",
        "# This line must be executed before loading Keras model.\n",
        "K.set_learning_phase(0)\n",
        "\n",
        "from keras.models import load_model\n",
        "model = load_model('./saved_model/3DCNN+3LSTM_128_4.h5')"
      ],
      "execution_count": 0,
      "outputs": []
    },
    {
      "cell_type": "code",
      "metadata": {
        "id": "94G6ulMJ7AEL",
        "colab_type": "code",
        "outputId": "5b5992ce-dd05-4684-b55b-5f7d4f86f2a6",
        "colab": {
          "base_uri": "https://localhost:8080/",
          "height": 884
        }
      },
      "source": [
        "model.summary()"
      ],
      "execution_count": 0,
      "outputs": [
        {
          "output_type": "stream",
          "text": [
            "Model: \"sequential_1\"\n",
            "_________________________________________________________________\n",
            "Layer (type)                 Output Shape              Param #   \n",
            "=================================================================\n",
            "conv3d_1 (Conv3D)            (None, 22, 126, 126, 16)  1312      \n",
            "_________________________________________________________________\n",
            "Conv3D_2a_a (Conv3D)         (None, 22, 126, 126, 16)  6912      \n",
            "_________________________________________________________________\n",
            "max_pooling3d_1 (MaxPooling3 (None, 11, 63, 63, 16)    0         \n",
            "_________________________________________________________________\n",
            "Conv3D_2b_a (Conv3D)         (None, 11, 63, 63, 32)    13824     \n",
            "_________________________________________________________________\n",
            "Conv3D_2b_b (Conv3D)         (None, 11, 63, 63, 32)    27648     \n",
            "_________________________________________________________________\n",
            "max_pooling3d_2 (MaxPooling3 (None, 11, 31, 31, 32)    0         \n",
            "_________________________________________________________________\n",
            "Conv3D_2c_a (Conv3D)         (None, 11, 31, 31, 64)    55296     \n",
            "_________________________________________________________________\n",
            "Conv3D_2c_b (Conv3D)         (None, 11, 31, 31, 64)    110592    \n",
            "_________________________________________________________________\n",
            "Conv3D_2c_c (Conv3D)         (None, 11, 31, 31, 64)    110592    \n",
            "_________________________________________________________________\n",
            "max_pooling3d_3 (MaxPooling3 (None, 11, 15, 15, 64)    0         \n",
            "_________________________________________________________________\n",
            "Conv3D_2d_a (Conv3D)         (None, 11, 15, 15, 128)   221184    \n",
            "_________________________________________________________________\n",
            "Conv3D_2d_b (Conv3D)         (None, 11, 15, 15, 128)   442368    \n",
            "_________________________________________________________________\n",
            "Conv3D_2d_c (Conv3D)         (None, 11, 15, 15, 128)   442368    \n",
            "_________________________________________________________________\n",
            "max_pooling3d_4 (MaxPooling3 (None, 11, 7, 7, 128)     0         \n",
            "_________________________________________________________________\n",
            "gatedclstm2d_2 (ConvLSTM2D)  (None, 11, 7, 7, 64)      442624    \n",
            "_________________________________________________________________\n",
            "gatedclstm2d_3 (ConvLSTM2D)  (None, 11, 7, 7, 64)      295168    \n",
            "_________________________________________________________________\n",
            "gatedclstm2d_4 (ConvLSTM2D)  (None, 11, 7, 7, 64)      295168    \n",
            "_________________________________________________________________\n",
            "global_average_pooling3d_1 ( (None, 64)                0         \n",
            "_________________________________________________________________\n",
            "dropout_1 (Dropout)          (None, 64)                0         \n",
            "_________________________________________________________________\n",
            "dense_1 (Dense)              (None, 4)                 260       \n",
            "_________________________________________________________________\n",
            "activation_1 (Activation)    (None, 4)                 0         \n",
            "=================================================================\n",
            "Total params: 2,465,316\n",
            "Trainable params: 2,465,316\n",
            "Non-trainable params: 0\n",
            "_________________________________________________________________\n"
          ],
          "name": "stdout"
        }
      ]
    },
    {
      "cell_type": "code",
      "metadata": {
        "id": "VxbNbGrE6_-y",
        "colab_type": "code",
        "outputId": "275ffb8b-da40-4d33-b9f1-96feb55e18f4",
        "colab": {
          "base_uri": "https://localhost:8080/",
          "height": 52
        }
      },
      "source": [
        "print(model.outputs)\n",
        "print(model.inputs)"
      ],
      "execution_count": 0,
      "outputs": [
        {
          "output_type": "stream",
          "text": [
            "[<tf.Tensor 'activation_1_2/Softmax:0' shape=(?, 4) dtype=float32>]\n",
            "[<tf.Tensor 'conv3d_1_input_2:0' shape=(?, 24, 128, 128, 3) dtype=float32>]\n"
          ],
          "name": "stdout"
        }
      ]
    }
  ]
}